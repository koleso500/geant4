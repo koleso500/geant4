{
 "cells": [
  {
   "cell_type": "markdown",
   "id": "6b9ffe9f",
   "metadata": {},
   "source": [
    "### Парсинг данных и создание датафрейма"
   ]
  },
  {
   "cell_type": "code",
   "execution_count": 11,
   "id": "attended-bermuda",
   "metadata": {},
   "outputs": [],
   "source": [
    "import os\n",
    "import pandas as pd\n",
    "import numpy as np\n",
    "import glob\n",
    "import matplotlib.pyplot as plt\n",
    "\n",
    "#%matplotlib notebook"
   ]
  },
  {
   "cell_type": "code",
   "execution_count": 12,
   "id": "cf91d50c",
   "metadata": {},
   "outputs": [],
   "source": [
    "paths = glob.glob(f\"build/*ParticleData_t*.csv\")"
   ]
  },
  {
   "cell_type": "code",
   "execution_count": 13,
   "id": "b50bbf71",
   "metadata": {},
   "outputs": [],
   "source": [
    "# Вытаскиваем из первого файла названия столбцов\n",
    "with open(paths[0], 'r') as f:\n",
    "    lines = []\n",
    "    while True:\n",
    "        line = f.readline()\n",
    "        if len(line)==0:\n",
    "            break\n",
    "        if line[0] != '#':\n",
    "            break\n",
    "        lines.append(line)\n",
    "    title = lines[1].replace('#title ', '')[:-1]                        \n",
    "    sep = chr(int(lines[2].replace('#separator ', '')[:-1]))            \n",
    "    vsc_sep = chr(int(lines[3].replace('#vector_separator ', '')[:-1])) \n",
    "    columns = [' '.join(i.split(' ')[2:])[:-1] for i in lines[4:]]\n",
    "    metarows_len = len(lines)"
   ]
  },
  {
   "cell_type": "code",
   "execution_count": 14,
   "id": "printable-moral",
   "metadata": {},
   "outputs": [],
   "source": [
    "data = pd.DataFrame()\n",
    "for path in paths:\n",
    "    item = pd.read_csv(path, skiprows=metarows_len, names=columns)\n",
    "    data = data.append(item, ignore_index=True)"
   ]
  },
  {
   "cell_type": "code",
   "execution_count": 15,
   "id": "87cdaca3",
   "metadata": {},
   "outputs": [
    {
     "data": {
      "text/html": [
       "<div>\n",
       "<style scoped>\n",
       "    .dataframe tbody tr th:only-of-type {\n",
       "        vertical-align: middle;\n",
       "    }\n",
       "\n",
       "    .dataframe tbody tr th {\n",
       "        vertical-align: top;\n",
       "    }\n",
       "\n",
       "    .dataframe thead th {\n",
       "        text-align: right;\n",
       "    }\n",
       "</style>\n",
       "<table border=\"1\" class=\"dataframe\">\n",
       "  <thead>\n",
       "    <tr style=\"text-align: right;\">\n",
       "      <th></th>\n",
       "      <th>particle_name</th>\n",
       "      <th>X</th>\n",
       "      <th>Y</th>\n",
       "      <th>Z</th>\n",
       "      <th>vX</th>\n",
       "      <th>vY</th>\n",
       "      <th>vZ</th>\n",
       "      <th>energy</th>\n",
       "    </tr>\n",
       "  </thead>\n",
       "  <tbody>\n",
       "    <tr>\n",
       "      <th>0</th>\n",
       "      <td>gamma</td>\n",
       "      <td>0.724852</td>\n",
       "      <td>-0.088897</td>\n",
       "      <td>0.049775</td>\n",
       "      <td>-1.823800</td>\n",
       "      <td>-0.875867</td>\n",
       "      <td>-0.010055</td>\n",
       "      <td>2.023240</td>\n",
       "    </tr>\n",
       "    <tr>\n",
       "      <th>1</th>\n",
       "      <td>e-</td>\n",
       "      <td>-0.999962</td>\n",
       "      <td>-0.165629</td>\n",
       "      <td>0.713146</td>\n",
       "      <td>-2.927450</td>\n",
       "      <td>-0.633836</td>\n",
       "      <td>1.297290</td>\n",
       "      <td>2.792910</td>\n",
       "    </tr>\n",
       "    <tr>\n",
       "      <th>2</th>\n",
       "      <td>gamma</td>\n",
       "      <td>0.236832</td>\n",
       "      <td>-2.190000</td>\n",
       "      <td>-0.897268</td>\n",
       "      <td>-0.185094</td>\n",
       "      <td>-0.652226</td>\n",
       "      <td>-0.061779</td>\n",
       "      <td>0.680790</td>\n",
       "    </tr>\n",
       "    <tr>\n",
       "      <th>3</th>\n",
       "      <td>e-</td>\n",
       "      <td>-0.999933</td>\n",
       "      <td>0.129972</td>\n",
       "      <td>0.626516</td>\n",
       "      <td>-2.873710</td>\n",
       "      <td>0.783132</td>\n",
       "      <td>0.597397</td>\n",
       "      <td>2.569400</td>\n",
       "    </tr>\n",
       "    <tr>\n",
       "      <th>4</th>\n",
       "      <td>gamma</td>\n",
       "      <td>-0.446324</td>\n",
       "      <td>0.239131</td>\n",
       "      <td>0.409116</td>\n",
       "      <td>-0.129077</td>\n",
       "      <td>0.114702</td>\n",
       "      <td>0.115173</td>\n",
       "      <td>0.207563</td>\n",
       "    </tr>\n",
       "    <tr>\n",
       "      <th>...</th>\n",
       "      <td>...</td>\n",
       "      <td>...</td>\n",
       "      <td>...</td>\n",
       "      <td>...</td>\n",
       "      <td>...</td>\n",
       "      <td>...</td>\n",
       "      <td>...</td>\n",
       "      <td>...</td>\n",
       "    </tr>\n",
       "    <tr>\n",
       "      <th>91</th>\n",
       "      <td>e-</td>\n",
       "      <td>-0.999876</td>\n",
       "      <td>-0.918382</td>\n",
       "      <td>-0.903951</td>\n",
       "      <td>-1.221750</td>\n",
       "      <td>-1.274610</td>\n",
       "      <td>-0.003755</td>\n",
       "      <td>1.327040</td>\n",
       "    </tr>\n",
       "    <tr>\n",
       "      <th>92</th>\n",
       "      <td>gamma</td>\n",
       "      <td>-0.897615</td>\n",
       "      <td>-0.839857</td>\n",
       "      <td>-0.938599</td>\n",
       "      <td>-0.359395</td>\n",
       "      <td>-0.254507</td>\n",
       "      <td>0.229371</td>\n",
       "      <td>0.496537</td>\n",
       "    </tr>\n",
       "    <tr>\n",
       "      <th>93</th>\n",
       "      <td>gamma</td>\n",
       "      <td>-0.172442</td>\n",
       "      <td>-0.356373</td>\n",
       "      <td>-0.438871</td>\n",
       "      <td>-0.130835</td>\n",
       "      <td>0.102821</td>\n",
       "      <td>-0.305751</td>\n",
       "      <td>0.348100</td>\n",
       "    </tr>\n",
       "    <tr>\n",
       "      <th>94</th>\n",
       "      <td>gamma</td>\n",
       "      <td>-0.749915</td>\n",
       "      <td>-0.168195</td>\n",
       "      <td>1.301430</td>\n",
       "      <td>-0.060032</td>\n",
       "      <td>-0.010944</td>\n",
       "      <td>0.037515</td>\n",
       "      <td>0.071630</td>\n",
       "    </tr>\n",
       "    <tr>\n",
       "      <th>95</th>\n",
       "      <td>gamma</td>\n",
       "      <td>0.653118</td>\n",
       "      <td>0.129073</td>\n",
       "      <td>-0.225539</td>\n",
       "      <td>-0.554751</td>\n",
       "      <td>0.372762</td>\n",
       "      <td>-0.623597</td>\n",
       "      <td>0.914097</td>\n",
       "    </tr>\n",
       "  </tbody>\n",
       "</table>\n",
       "<p>96 rows × 8 columns</p>\n",
       "</div>"
      ],
      "text/plain": [
       "   particle_name         X         Y         Z        vX        vY        vZ  \\\n",
       "0          gamma  0.724852 -0.088897  0.049775 -1.823800 -0.875867 -0.010055   \n",
       "1             e- -0.999962 -0.165629  0.713146 -2.927450 -0.633836  1.297290   \n",
       "2          gamma  0.236832 -2.190000 -0.897268 -0.185094 -0.652226 -0.061779   \n",
       "3             e- -0.999933  0.129972  0.626516 -2.873710  0.783132  0.597397   \n",
       "4          gamma -0.446324  0.239131  0.409116 -0.129077  0.114702  0.115173   \n",
       "..           ...       ...       ...       ...       ...       ...       ...   \n",
       "91            e- -0.999876 -0.918382 -0.903951 -1.221750 -1.274610 -0.003755   \n",
       "92         gamma -0.897615 -0.839857 -0.938599 -0.359395 -0.254507  0.229371   \n",
       "93         gamma -0.172442 -0.356373 -0.438871 -0.130835  0.102821 -0.305751   \n",
       "94         gamma -0.749915 -0.168195  1.301430 -0.060032 -0.010944  0.037515   \n",
       "95         gamma  0.653118  0.129073 -0.225539 -0.554751  0.372762 -0.623597   \n",
       "\n",
       "      energy  \n",
       "0   2.023240  \n",
       "1   2.792910  \n",
       "2   0.680790  \n",
       "3   2.569400  \n",
       "4   0.207563  \n",
       "..       ...  \n",
       "91  1.327040  \n",
       "92  0.496537  \n",
       "93  0.348100  \n",
       "94  0.071630  \n",
       "95  0.914097  \n",
       "\n",
       "[96 rows x 8 columns]"
      ]
     },
     "execution_count": 15,
     "metadata": {},
     "output_type": "execute_result"
    }
   ],
   "source": [
    "data"
   ]
  },
  {
   "cell_type": "code",
   "execution_count": 16,
   "id": "52c7b9d5",
   "metadata": {},
   "outputs": [
    {
     "data": {
      "text/plain": [
       "{'e-', 'gamma'}"
      ]
     },
     "execution_count": 16,
     "metadata": {},
     "output_type": "execute_result"
    }
   ],
   "source": [
    "set(data[\"particle_name\"])"
   ]
  },
  {
   "cell_type": "code",
   "execution_count": 17,
   "id": "99f98aab",
   "metadata": {},
   "outputs": [
    {
     "data": {
      "text/plain": [
       "35"
      ]
     },
     "execution_count": 17,
     "metadata": {},
     "output_type": "execute_result"
    }
   ],
   "source": [
    "len(data[data[\"particle_name\"]==\"e-\"])"
   ]
  },
  {
   "cell_type": "code",
   "execution_count": 18,
   "id": "c2090eaf",
   "metadata": {},
   "outputs": [
    {
     "data": {
      "text/plain": [
       "61"
      ]
     },
     "execution_count": 18,
     "metadata": {},
     "output_type": "execute_result"
    }
   ],
   "source": [
    "len(data[data[\"particle_name\"]==\"gamma\"])"
   ]
  },
  {
   "cell_type": "code",
   "execution_count": 19,
   "id": "a45b6e84",
   "metadata": {},
   "outputs": [],
   "source": [
    "energy = data[\"energy\"].to_numpy()"
   ]
  },
  {
   "cell_type": "code",
   "execution_count": 24,
   "id": "c1409f5c",
   "metadata": {},
   "outputs": [
    {
     "data": {
      "image/png": "[encoded data removed]",
      "text/plain": [
       "<Figure size 432x288 with 1 Axes>"
      ]
     },
     "metadata": {
      "needs_background": "light"
     },
     "output_type": "display_data"
    }
   ],
   "source": [
    "plt.hist(energy, bins=20)\n",
    "plt.xlabel(\"Energy, MeV\")\n",
    "plt.ylabel(\"N\")\n",
    "plt.show()"
   ]
  },
  {
   "cell_type": "code",
   "execution_count": 27,
   "id": "a5ac6a4e",
   "metadata": {},
   "outputs": [
    {
     "data": {
      "image/png": "[encoded data removed]",
      "text/plain": [
       "<Figure size 432x288 with 1 Axes>"
      ]
     },
     "metadata": {
      "needs_background": "light"
     },
     "output_type": "display_data"
    }
   ],
   "source": [
    "nparticle, energy, _ = plt.hist(energy, bins=20)"
   ]
  },
  {
   "cell_type": "code",
   "execution_count": 30,
   "id": "a41db23c",
   "metadata": {},
   "outputs": [
    {
     "data": {
      "text/plain": [
       "[<matplotlib.lines.Line2D at 0x7f3eeb5343a0>]"
      ]
     },
     "execution_count": 30,
     "metadata": {},
     "output_type": "execute_result"
    },
    {
     "data": {
      "image/png": "[encoded data removed]",
      "text/plain": [
       "<Figure size 432x288 with 1 Axes>"
      ]
     },
     "metadata": {
      "needs_background": "light"
     },
     "output_type": "display_data"
    }
   ],
   "source": [
    "plt.plot(energy[:-1], nparticle)"
   ]
  },
  {
   "cell_type": "code",
   "execution_count": null,
   "id": "f68eb053",
   "metadata": {},
   "outputs": [],
   "source": []
  }
 ],
 "metadata": {
  "kernelspec": {
   "display_name": "Python 3 (ipykernel)",
   "language": "python",
   "name": "python3"
  },
  "language_info": {
   "codemirror_mode": {
    "name": "ipython",
    "version": 3
   },
   "file_extension": ".py",
   "mimetype": "text/x-python",
   "name": "python",
   "nbconvert_exporter": "python",
   "pygments_lexer": "ipython3",
   "version": "3.8.10"
  }
 },
 "nbformat": 4,
 "nbformat_minor": 5
}
