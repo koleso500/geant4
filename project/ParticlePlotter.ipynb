{
 "cells": [
  {
   "cell_type": "markdown",
   "id": "6b9ffe9f",
   "metadata": {},
   "source": [
    "### Парсинг данных и создание датафрейма"
   ]
  },
  {
   "cell_type": "code",
   "execution_count": 31,
   "id": "attended-bermuda",
   "metadata": {},
   "outputs": [],
   "source": [
    "import os\n",
    "import pandas as pd\n",
    "import numpy as np\n",
    "import glob\n",
    "import matplotlib.pyplot as plt\n",
    "\n",
    "#%matplotlib notebook"
   ]
  },
  {
   "cell_type": "code",
   "execution_count": 32,
   "id": "cf91d50c",
   "metadata": {},
   "outputs": [],
   "source": [
    "paths = glob.glob(f\"build/*ParticleData_t*.csv\")"
   ]
  },
  {
   "cell_type": "code",
   "execution_count": 33,
   "id": "b50bbf71",
   "metadata": {},
   "outputs": [],
   "source": [
    "# Вытаскиваем из первого файла названия столбцов\n",
    "with open(paths[0], 'r') as f:\n",
    "    lines = []\n",
    "    while True:\n",
    "        line = f.readline()\n",
    "        if len(line)==0:\n",
    "            break\n",
    "        if line[0] != '#':\n",
    "            break\n",
    "        lines.append(line)\n",
    "    title = lines[1].replace('#title ', '')[:-1]                        \n",
    "    sep = chr(int(lines[2].replace('#separator ', '')[:-1]))            \n",
    "    vsc_sep = chr(int(lines[3].replace('#vector_separator ', '')[:-1])) \n",
    "    columns = [' '.join(i.split(' ')[2:])[:-1] for i in lines[4:]]\n",
    "    metarows_len = len(lines)"
   ]
  },
  {
   "cell_type": "code",
   "execution_count": 34,
   "id": "printable-moral",
   "metadata": {},
   "outputs": [],
   "source": [
    "data = pd.DataFrame()\n",
    "for path in paths:\n",
    "    item = pd.read_csv(path, skiprows=metarows_len, names=columns)\n",
    "    data = data.append(item, ignore_index=True)"
   ]
  },
  {
   "cell_type": "code",
   "execution_count": 35,
   "id": "87cdaca3",
   "metadata": {},
   "outputs": [
    {
     "data": {
      "text/html": [
       "<div>\n",
       "<style scoped>\n",
       "    .dataframe tbody tr th:only-of-type {\n",
       "        vertical-align: middle;\n",
       "    }\n",
       "\n",
       "    .dataframe tbody tr th {\n",
       "        vertical-align: top;\n",
       "    }\n",
       "\n",
       "    .dataframe thead th {\n",
       "        text-align: right;\n",
       "    }\n",
       "</style>\n",
       "<table border=\"1\" class=\"dataframe\">\n",
       "  <thead>\n",
       "    <tr style=\"text-align: right;\">\n",
       "      <th></th>\n",
       "      <th>particle_name</th>\n",
       "      <th>X</th>\n",
       "      <th>Y</th>\n",
       "      <th>Z</th>\n",
       "      <th>vX</th>\n",
       "      <th>vY</th>\n",
       "      <th>vZ</th>\n",
       "      <th>energy</th>\n",
       "    </tr>\n",
       "  </thead>\n",
       "  <tbody>\n",
       "    <tr>\n",
       "      <th>0</th>\n",
       "      <td>gamma</td>\n",
       "      <td>0.924888</td>\n",
       "      <td>-0.017634</td>\n",
       "      <td>-0.002860</td>\n",
       "      <td>-0.685791</td>\n",
       "      <td>-0.322416</td>\n",
       "      <td>-0.033464</td>\n",
       "      <td>0.758538</td>\n",
       "    </tr>\n",
       "    <tr>\n",
       "      <th>1</th>\n",
       "      <td>gamma</td>\n",
       "      <td>0.414573</td>\n",
       "      <td>-0.000340</td>\n",
       "      <td>0.248038</td>\n",
       "      <td>-0.965654</td>\n",
       "      <td>-0.310043</td>\n",
       "      <td>0.513565</td>\n",
       "      <td>1.136820</td>\n",
       "    </tr>\n",
       "    <tr>\n",
       "      <th>2</th>\n",
       "      <td>e-</td>\n",
       "      <td>-0.999939</td>\n",
       "      <td>0.121901</td>\n",
       "      <td>-0.488423</td>\n",
       "      <td>-2.578320</td>\n",
       "      <td>0.613457</td>\n",
       "      <td>-1.069590</td>\n",
       "      <td>2.392020</td>\n",
       "    </tr>\n",
       "    <tr>\n",
       "      <th>3</th>\n",
       "      <td>gamma</td>\n",
       "      <td>-0.023020</td>\n",
       "      <td>0.002273</td>\n",
       "      <td>-0.265610</td>\n",
       "      <td>-1.933180</td>\n",
       "      <td>-0.547565</td>\n",
       "      <td>-0.188970</td>\n",
       "      <td>2.018100</td>\n",
       "    </tr>\n",
       "    <tr>\n",
       "      <th>4</th>\n",
       "      <td>gamma</td>\n",
       "      <td>0.980319</td>\n",
       "      <td>0.000528</td>\n",
       "      <td>-0.000016</td>\n",
       "      <td>-0.111745</td>\n",
       "      <td>-0.065780</td>\n",
       "      <td>0.003302</td>\n",
       "      <td>0.129711</td>\n",
       "    </tr>\n",
       "    <tr>\n",
       "      <th>...</th>\n",
       "      <td>...</td>\n",
       "      <td>...</td>\n",
       "      <td>...</td>\n",
       "      <td>...</td>\n",
       "      <td>...</td>\n",
       "      <td>...</td>\n",
       "      <td>...</td>\n",
       "      <td>...</td>\n",
       "    </tr>\n",
       "    <tr>\n",
       "      <th>101231135</th>\n",
       "      <td>e-</td>\n",
       "      <td>-0.999949</td>\n",
       "      <td>0.017816</td>\n",
       "      <td>-0.506199</td>\n",
       "      <td>-2.389400</td>\n",
       "      <td>0.137726</td>\n",
       "      <td>-1.890310</td>\n",
       "      <td>2.581320</td>\n",
       "    </tr>\n",
       "    <tr>\n",
       "      <th>101231136</th>\n",
       "      <td>gamma</td>\n",
       "      <td>-0.961328</td>\n",
       "      <td>0.024620</td>\n",
       "      <td>-0.477120</td>\n",
       "      <td>-0.083062</td>\n",
       "      <td>0.024312</td>\n",
       "      <td>-0.038359</td>\n",
       "      <td>0.094667</td>\n",
       "    </tr>\n",
       "    <tr>\n",
       "      <th>101231137</th>\n",
       "      <td>gamma</td>\n",
       "      <td>0.315278</td>\n",
       "      <td>0.060870</td>\n",
       "      <td>-0.403120</td>\n",
       "      <td>-1.464300</td>\n",
       "      <td>0.055400</td>\n",
       "      <td>-1.104800</td>\n",
       "      <td>1.835170</td>\n",
       "    </tr>\n",
       "    <tr>\n",
       "      <th>101231138</th>\n",
       "      <td>e-</td>\n",
       "      <td>-0.999996</td>\n",
       "      <td>0.011098</td>\n",
       "      <td>-0.231038</td>\n",
       "      <td>-1.914640</td>\n",
       "      <td>-2.020280</td>\n",
       "      <td>0.929092</td>\n",
       "      <td>2.467530</td>\n",
       "    </tr>\n",
       "    <tr>\n",
       "      <th>101231139</th>\n",
       "      <td>gamma</td>\n",
       "      <td>0.022136</td>\n",
       "      <td>0.230947</td>\n",
       "      <td>-0.226102</td>\n",
       "      <td>-0.336097</td>\n",
       "      <td>0.059972</td>\n",
       "      <td>-0.298760</td>\n",
       "      <td>0.453669</td>\n",
       "    </tr>\n",
       "  </tbody>\n",
       "</table>\n",
       "<p>101231140 rows × 8 columns</p>\n",
       "</div>"
      ],
      "text/plain": [
       "          particle_name         X         Y         Z        vX        vY  \\\n",
       "0                 gamma  0.924888 -0.017634 -0.002860 -0.685791 -0.322416   \n",
       "1                 gamma  0.414573 -0.000340  0.248038 -0.965654 -0.310043   \n",
       "2                    e- -0.999939  0.121901 -0.488423 -2.578320  0.613457   \n",
       "3                 gamma -0.023020  0.002273 -0.265610 -1.933180 -0.547565   \n",
       "4                 gamma  0.980319  0.000528 -0.000016 -0.111745 -0.065780   \n",
       "...                 ...       ...       ...       ...       ...       ...   \n",
       "101231135            e- -0.999949  0.017816 -0.506199 -2.389400  0.137726   \n",
       "101231136         gamma -0.961328  0.024620 -0.477120 -0.083062  0.024312   \n",
       "101231137         gamma  0.315278  0.060870 -0.403120 -1.464300  0.055400   \n",
       "101231138            e- -0.999996  0.011098 -0.231038 -1.914640 -2.020280   \n",
       "101231139         gamma  0.022136  0.230947 -0.226102 -0.336097  0.059972   \n",
       "\n",
       "                 vZ    energy  \n",
       "0         -0.033464  0.758538  \n",
       "1          0.513565  1.136820  \n",
       "2         -1.069590  2.392020  \n",
       "3         -0.188970  2.018100  \n",
       "4          0.003302  0.129711  \n",
       "...             ...       ...  \n",
       "101231135 -1.890310  2.581320  \n",
       "101231136 -0.038359  0.094667  \n",
       "101231137 -1.104800  1.835170  \n",
       "101231138  0.929092  2.467530  \n",
       "101231139 -0.298760  0.453669  \n",
       "\n",
       "[101231140 rows x 8 columns]"
      ]
     },
     "execution_count": 35,
     "metadata": {},
     "output_type": "execute_result"
    }
   ],
   "source": [
    "data"
   ]
  },
  {
   "cell_type": "code",
   "execution_count": 45,
   "id": "52c7b9d5",
   "metadata": {},
   "outputs": [
    {
     "data": {
      "text/plain": [
       "{'e+', 'e-', 'gamma'}"
      ]
     },
     "execution_count": 45,
     "metadata": {},
     "output_type": "execute_result"
    }
   ],
   "source": [
    "set(data[\"particle_name\"])"
   ]
  },
  {
   "cell_type": "code",
   "execution_count": 46,
   "id": "ae5f331c",
   "metadata": {},
   "outputs": [
    {
     "data": {
      "text/plain": [
       "2992"
      ]
     },
     "execution_count": 46,
     "metadata": {},
     "output_type": "execute_result"
    }
   ],
   "source": [
    "len(data[data[\"particle_name\"]==\"e+\"])"
   ]
  },
  {
   "cell_type": "code",
   "execution_count": 37,
   "id": "99f98aab",
   "metadata": {},
   "outputs": [
    {
     "data": {
      "text/plain": [
       "37912012"
      ]
     },
     "execution_count": 37,
     "metadata": {},
     "output_type": "execute_result"
    }
   ],
   "source": [
    "len(data[data[\"particle_name\"]==\"e-\"])"
   ]
  },
  {
   "cell_type": "code",
   "execution_count": 38,
   "id": "c2090eaf",
   "metadata": {},
   "outputs": [
    {
     "data": {
      "text/plain": [
       "63316136"
      ]
     },
     "execution_count": 38,
     "metadata": {},
     "output_type": "execute_result"
    }
   ],
   "source": [
    "len(data[data[\"particle_name\"]==\"gamma\"])"
   ]
  },
  {
   "cell_type": "code",
   "execution_count": 49,
   "id": "9aa28a31",
   "metadata": {},
   "outputs": [],
   "source": [
    "energy = data[\"energy\"].to_numpy()"
   ]
  },
  {
   "cell_type": "code",
   "execution_count": 52,
   "id": "1dacaa5a",
   "metadata": {},
   "outputs": [
    {
     "data": {
      "image/png": "[encoded data removed]",
      "text/plain": [
       "<Figure size 432x288 with 1 Axes>"
      ]
     },
     "metadata": {
      "needs_background": "light"
     },
     "output_type": "display_data"
    }
   ],
   "source": [
    "plt.hist(energy, bins=150)\n",
    "plt.xlabel(\"Energy, MeV\")\n",
    "plt.ylabel(\"N\")\n",
    "plt.show()"
   ]
  },
  {
   "cell_type": "code",
   "execution_count": 41,
   "id": "c7b9384c",
   "metadata": {},
   "outputs": [
    {
     "data": {
      "image/png": "[encoded data removed]",
      "text/plain": [
       "<Figure size 432x288 with 1 Axes>"
      ]
     },
     "metadata": {
      "needs_background": "light"
     },
     "output_type": "display_data"
    }
   ],
   "source": [
    "nparticle, energy, _ = plt.hist(energy, bins=20)"
   ]
  },
  {
   "cell_type": "code",
   "execution_count": 42,
   "id": "ae768455",
   "metadata": {},
   "outputs": [
    {
     "data": {
      "text/plain": [
       "[<matplotlib.lines.Line2D at 0x7f3eeb0e4f10>]"
      ]
     },
     "execution_count": 42,
     "metadata": {},
     "output_type": "execute_result"
    },
    {
     "data": {
      "image/png": "[encoded data removed]",
      "text/plain": [
       "<Figure size 432x288 with 1 Axes>"
      ]
     },
     "metadata": {
      "needs_background": "light"
     },
     "output_type": "display_data"
    }
   ],
   "source": [
    "plt.plot(energy[:-1], nparticle)"
   ]
  },
  {
   "cell_type": "code",
   "execution_count": null,
   "id": "a1523d82",
   "metadata": {},
   "outputs": [],
   "source": []
  }
 ],
 "metadata": {
  "kernelspec": {
   "display_name": "Python 3 (ipykernel)",
   "language": "python",
   "name": "python3"
  },
  "language_info": {
   "codemirror_mode": {
    "name": "ipython",
    "version": 3
   },
   "file_extension": ".py",
   "mimetype": "text/x-python",
   "name": "python",
   "nbconvert_exporter": "python",
   "pygments_lexer": "ipython3",
   "version": "3.8.10"
  }
 },
 "nbformat": 4,
 "nbformat_minor": 5
}
